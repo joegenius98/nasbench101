{
 "cells": [
  {
   "cell_type": "code",
   "execution_count": 37,
   "metadata": {},
   "outputs": [],
   "source": [
    "from absl import app\n",
    "from nasbench import api"
   ]
  },
  {
   "cell_type": "code",
   "execution_count": 38,
   "metadata": {},
   "outputs": [],
   "source": [
    "INPUT = 'input'\n",
    "OUTPUT = 'output'\n",
    "CONV1X1 = 'conv1x1-bn-relu'\n",
    "CONV3X3 = 'conv3x3-bn-relu'\n",
    "MAXPOOL3X3 = 'maxpool3x3'"
   ]
  },
  {
   "cell_type": "code",
   "execution_count": 39,
   "metadata": {},
   "outputs": [
    {
     "name": "stdout",
     "output_type": "stream",
     "text": [
      "dict_keys(['absl.logging', 'absl.app', 'nasbench.lib.config', 'tensorflow.python.ops.parallel_for.pfor', 'tensorflow.python.tpu.client.client', 'absl.testing.absltest'])\n",
      "Loading dataset from file... This may take a few minutes...\n"
     ]
    },
    {
     "name": "stderr",
     "output_type": "stream",
     "text": [
      "100%|██████████| 5083488/5083488 [01:56<00:00, 43650.51it/s]"
     ]
    },
    {
     "name": "stdout",
     "output_type": "stream",
     "text": [
      "Loaded dataset in 116 seconds\n"
     ]
    },
    {
     "name": "stderr",
     "output_type": "stream",
     "text": [
      "\n"
     ]
    }
   ],
   "source": [
    "# Load the data from file (this will take some time)\n",
    "nasbench = api.NASBench('./dataset/nasbench_full.tfrecord')\n",
    "\n",
    "# Create an Inception-like module (5x5 convolution replaced with two 3x3\n",
    "# convolutions).\n",
    "model_spec = api.ModelSpec(\n",
    "    # Adjacency matrix of the module\n",
    "    matrix=[[0, 1, 1, 1, 0, 1, 0],    # input layer\n",
    "            [0, 0, 0, 0, 0, 0, 1],    # 1x1 conv\n",
    "            [0, 0, 0, 0, 0, 0, 1],    # 3x3 conv\n",
    "            [0, 0, 0, 0, 1, 0, 0],    # 5x5 conv (replaced by two 3x3's)\n",
    "            [0, 0, 0, 0, 0, 0, 1],    # 5x5 conv (replaced by two 3x3's)\n",
    "            [0, 0, 0, 0, 0, 0, 1],    # 3x3 max-pool\n",
    "            [0, 0, 0, 0, 0, 0, 0]],   # output layer\n",
    "    # Operations at the vertices of the module, matches order of matrix\n",
    "    ops=[INPUT, CONV1X1, CONV3X3, CONV3X3, CONV3X3, MAXPOOL3X3, OUTPUT])\n",
    "\n",
    "# Query this model from dataset, returns a dictionary containing the metrics\n",
    "# associated with this model.\n",
    "data = nasbench.query(model_spec)"
   ]
  },
  {
   "cell_type": "code",
   "execution_count": 40,
   "metadata": {},
   "outputs": [
    {
     "data": {
      "text/plain": [
       "{'module_adjacency': array([[0, 1, 1, 1, 1, 0, 0],\n",
       "        [0, 0, 0, 0, 0, 0, 1],\n",
       "        [0, 0, 0, 0, 0, 0, 1],\n",
       "        [0, 0, 0, 0, 0, 0, 1],\n",
       "        [0, 0, 0, 0, 0, 1, 0],\n",
       "        [0, 0, 0, 0, 0, 0, 1],\n",
       "        [0, 0, 0, 0, 0, 0, 0]], dtype=int8),\n",
       " 'module_operations': ['input',\n",
       "  'conv3x3-bn-relu',\n",
       "  'conv1x1-bn-relu',\n",
       "  'maxpool3x3',\n",
       "  'conv3x3-bn-relu',\n",
       "  'conv3x3-bn-relu',\n",
       "  'output'],\n",
       " 'trainable_parameters': 2694282,\n",
       " 'training_time': 1157.675048828125,\n",
       " 'train_accuracy': 1.0,\n",
       " 'validation_accuracy': 0.9378004670143127,\n",
       " 'test_accuracy': 0.932692289352417}"
      ]
     },
     "execution_count": 40,
     "metadata": {},
     "output_type": "execute_result"
    }
   ],
   "source": [
    "data"
   ]
  },
  {
   "cell_type": "code",
   "execution_count": 42,
   "metadata": {},
   "outputs": [
    {
     "data": {
      "text/plain": [
       "<nasbench.api.NASBench at 0x7fdec56b90a0>"
      ]
     },
     "execution_count": 42,
     "metadata": {},
     "output_type": "execute_result"
    }
   ],
   "source": [
    "nasbench"
   ]
  },
  {
   "cell_type": "code",
   "execution_count": 45,
   "metadata": {},
   "outputs": [
    {
     "name": "stdout",
     "output_type": "stream",
     "text": [
      "['-', '--nouse_tpu', '--train_data_files', './nasbench/scripts/cifar-10-data/train_1.tfrecords,./nasbench/scripts/cifar-10-data/train_2.tfrecords,./nasbench/scripts/cifar-10-data/train_3.tfrecords,./nasbench/scripts/cifar-10-data/train_4.tfrecords', '--test_data_file', './nasbench/scripts/cifar-10-data/test.tfrecords', '--valid_data_file', './nasbench/scripts/cifar-10-data/validation.tfrecords']\n"
     ]
    },
    {
     "name": "stderr",
     "output_type": "stream",
     "text": [
      "Traceback (most recent call last):\n",
      "  File \"<stdin>\", line 5, in <module>\n",
      "NameError: name 'nasbench' is not defined\n"
     ]
    },
    {
     "ename": "CalledProcessError",
     "evalue": "Command 'b\"\\nimport sys\\nprint(sys.argv)\\n\\nnasbench.evaluate(model_spec, './test_output')\\n\"' returned non-zero exit status 1.",
     "output_type": "error",
     "traceback": [
      "\u001b[0;31m---------------------------------------------------------------------------\u001b[0m",
      "\u001b[0;31mCalledProcessError\u001b[0m                        Traceback (most recent call last)",
      "\u001b[1;32m/home/rockerbox/Desktop/nasbench/test.ipynb Cell 6'\u001b[0m in \u001b[0;36m<cell line: 1>\u001b[0;34m()\u001b[0m\n\u001b[0;32m----> <a href='vscode-notebook-cell:/home/rockerbox/Desktop/nasbench/test.ipynb#ch0000004?line=0'>1</a>\u001b[0m get_ipython()\u001b[39m.\u001b[39;49mrun_cell_magic(\u001b[39m'\u001b[39;49m\u001b[39mpython\u001b[39;49m\u001b[39m'\u001b[39;49m, \u001b[39m'\u001b[39;49m\u001b[39m- --nouse_tpu --train_data_files ./nasbench/scripts/cifar-10-data/train_1.tfrecords,./nasbench/scripts/cifar-10-data/train_2.tfrecords,./nasbench/scripts/cifar-10-data/train_3.tfrecords,./nasbench/scripts/cifar-10-data/train_4.tfrecords --test_data_file ./nasbench/scripts/cifar-10-data/test.tfrecords --valid_data_file ./nasbench/scripts/cifar-10-data/validation.tfrecords\u001b[39;49m\u001b[39m'\u001b[39;49m, \u001b[39m\"\u001b[39;49m\u001b[39m\\n\u001b[39;49;00m\u001b[39mimport sys\u001b[39;49m\u001b[39m\\n\u001b[39;49;00m\u001b[39mprint(sys.argv)\u001b[39;49m\u001b[39m\\n\u001b[39;49;00m\u001b[39m\\n\u001b[39;49;00m\u001b[39mnasbench.evaluate(model_spec, \u001b[39;49m\u001b[39m'\u001b[39;49m\u001b[39m./test_output\u001b[39;49m\u001b[39m'\u001b[39;49m\u001b[39m)\u001b[39;49m\u001b[39m\\n\u001b[39;49;00m\u001b[39m\"\u001b[39;49m)\n",
      "File \u001b[0;32m~/anaconda3/envs/nas_with_tf/lib/python3.9/site-packages/IPython/core/interactiveshell.py:2357\u001b[0m, in \u001b[0;36mInteractiveShell.run_cell_magic\u001b[0;34m(self, magic_name, line, cell)\u001b[0m\n\u001b[1;32m   2355\u001b[0m \u001b[39mwith\u001b[39;00m \u001b[39mself\u001b[39m\u001b[39m.\u001b[39mbuiltin_trap:\n\u001b[1;32m   2356\u001b[0m     args \u001b[39m=\u001b[39m (magic_arg_s, cell)\n\u001b[0;32m-> 2357\u001b[0m     result \u001b[39m=\u001b[39m fn(\u001b[39m*\u001b[39;49margs, \u001b[39m*\u001b[39;49m\u001b[39m*\u001b[39;49mkwargs)\n\u001b[1;32m   2358\u001b[0m \u001b[39mreturn\u001b[39;00m result\n",
      "File \u001b[0;32m~/anaconda3/envs/nas_with_tf/lib/python3.9/site-packages/IPython/core/magics/script.py:153\u001b[0m, in \u001b[0;36mScriptMagics._make_script_magic.<locals>.named_script_magic\u001b[0;34m(line, cell)\u001b[0m\n\u001b[1;32m    151\u001b[0m \u001b[39melse\u001b[39;00m:\n\u001b[1;32m    152\u001b[0m     line \u001b[39m=\u001b[39m script\n\u001b[0;32m--> 153\u001b[0m \u001b[39mreturn\u001b[39;00m \u001b[39mself\u001b[39;49m\u001b[39m.\u001b[39;49mshebang(line, cell)\n",
      "File \u001b[0;32m~/anaconda3/envs/nas_with_tf/lib/python3.9/site-packages/IPython/core/magics/script.py:305\u001b[0m, in \u001b[0;36mScriptMagics.shebang\u001b[0;34m(self, line, cell)\u001b[0m\n\u001b[1;32m    300\u001b[0m \u001b[39mif\u001b[39;00m args\u001b[39m.\u001b[39mraise_error \u001b[39mand\u001b[39;00m p\u001b[39m.\u001b[39mreturncode \u001b[39m!=\u001b[39m \u001b[39m0\u001b[39m:\n\u001b[1;32m    301\u001b[0m     \u001b[39m# If we get here and p.returncode is still None, we must have\u001b[39;00m\n\u001b[1;32m    302\u001b[0m     \u001b[39m# killed it but not yet seen its return code. We don't wait for it,\u001b[39;00m\n\u001b[1;32m    303\u001b[0m     \u001b[39m# in case it's stuck in uninterruptible sleep. -9 = SIGKILL\u001b[39;00m\n\u001b[1;32m    304\u001b[0m     rc \u001b[39m=\u001b[39m p\u001b[39m.\u001b[39mreturncode \u001b[39mor\u001b[39;00m \u001b[39m-\u001b[39m\u001b[39m9\u001b[39m\n\u001b[0;32m--> 305\u001b[0m     \u001b[39mraise\u001b[39;00m CalledProcessError(rc, cell)\n",
      "\u001b[0;31mCalledProcessError\u001b[0m: Command 'b\"\\nimport sys\\nprint(sys.argv)\\n\\nnasbench.evaluate(model_spec, './test_output')\\n\"' returned non-zero exit status 1."
     ]
    }
   ],
   "source": [
    "%%python - --nouse_tpu --train_data_files ./nasbench/scripts/cifar-10-data/train_1.tfrecords,./nasbench/scripts/cifar-10-data/train_2.tfrecords,./nasbench/scripts/cifar-10-data/train_3.tfrecords,./nasbench/scripts/cifar-10-data/train_4.tfrecords --test_data_file ./nasbench/scripts/cifar-10-data/test.tfrecords --valid_data_file ./nasbench/scripts/cifar-10-data/validation.tfrecords\n",
    "\n",
    "import sys\n",
    "print(sys.argv)\n",
    "\n",
    "nasbench.evaluate(model_spec, './test_output')"
   ]
  },
  {
   "cell_type": "code",
   "execution_count": 60,
   "metadata": {},
   "outputs": [
    {
     "name": "stdout",
     "output_type": "stream",
     "text": [
      "/usr/bin/zsh: /home/rockerbox/anaconda3/envs/nas_with_tf/lib/libtinfo.so.6: no version information available (required by /usr/bin/zsh)\n",
      "2022-07-12 15:14:01.166806: I tensorflow/stream_executor/cuda/cuda_gpu_executor.cc:975] successful NUMA node read from SysFS had negative value (-1), but there must be at least one NUMA node, so returning NUMA node zero\n",
      "2022-07-12 15:14:01.169909: I tensorflow/stream_executor/cuda/cuda_gpu_executor.cc:975] successful NUMA node read from SysFS had negative value (-1), but there must be at least one NUMA node, so returning NUMA node zero\n",
      "2022-07-12 15:14:01.169990: I tensorflow/stream_executor/cuda/cuda_gpu_executor.cc:975] successful NUMA node read from SysFS had negative value (-1), but there must be at least one NUMA node, so returning NUMA node zero\n",
      "dict_keys(['absl.logging', 'absl.app', 'nasbench.lib.config', 'tensorflow.python.ops.parallel_for.pfor', 'tensorflow.python.tpu.client.client', 'absl.testing.absltest'])\n",
      "Loading dataset from file... This may take a few minutes...\n",
      "WARNING:tensorflow:From /home/rockerbox/Desktop/nasbench/nasbench/api.py:153: tf_record_iterator (from tensorflow.python.lib.io.tf_record) is deprecated and will be removed in a future version.\n",
      "Instructions for updating:\n",
      "Use eager execution and: \n",
      "`tf.data.TFRecordDataset(path)`\n",
      "W0712 15:14:01.170236 140577482109760 deprecation.py:350] From /home/rockerbox/Desktop/nasbench/nasbench/api.py:153: tf_record_iterator (from tensorflow.python.lib.io.tf_record) is deprecated and will be removed in a future version.\n",
      "Instructions for updating:\n",
      "Use eager execution and: \n",
      "`tf.data.TFRecordDataset(path)`\n",
      "100%|██████████████████████████████| 5083488/5083488 [01:51<00:00, 45654.66it/s]\n",
      "Loaded dataset in 111 seconds\n",
      "{'module_adjacency': array([[0, 1, 1, 1, 1, 0, 0],\n",
      "       [0, 0, 0, 0, 0, 0, 1],\n",
      "       [0, 0, 0, 0, 0, 0, 1],\n",
      "       [0, 0, 0, 0, 0, 0, 1],\n",
      "       [0, 0, 0, 0, 0, 1, 0],\n",
      "       [0, 0, 0, 0, 0, 0, 1],\n",
      "       [0, 0, 0, 0, 0, 0, 0]], dtype=int8), 'module_operations': ['input', 'conv3x3-bn-relu', 'conv1x1-bn-relu', 'maxpool3x3', 'conv3x3-bn-relu', 'conv3x3-bn-relu', 'output'], 'trainable_parameters': 2694282, 'training_time': 1155.85302734375, 'train_accuracy': 1.0, 'validation_accuracy': 0.9376001358032227, 'test_accuracy': 0.9311898946762085}\n",
      "WARNING:tensorflow:From /home/rockerbox/Desktop/nasbench/nasbench/lib/evaluate.py:263: The name tf.estimator.tpu.RunConfig is deprecated. Please use tf.compat.v1.estimator.tpu.RunConfig instead.\n",
      "\n",
      "W0712 15:15:52.626534 140577482109760 module_wrapper.py:149] From /home/rockerbox/Desktop/nasbench/nasbench/lib/evaluate.py:263: The name tf.estimator.tpu.RunConfig is deprecated. Please use tf.compat.v1.estimator.tpu.RunConfig instead.\n",
      "\n",
      "WARNING:tensorflow:Estimator's model_fn (<function build_model_fn.<locals>.model_fn at 0x7fd8efd3eaf0>) includes params argument, but params are not passed to Estimator.\n",
      "W0712 15:15:52.626818 140577482109760 estimator.py:2029] Estimator's model_fn (<function build_model_fn.<locals>.model_fn at 0x7fd8efd3eaf0>) includes params argument, but params are not passed to Estimator.\n",
      "INFO:tensorflow:Using config: {'_model_dir': './test_output', '_tf_random_seed': None, '_save_summary_steps': 100, '_save_checkpoints_steps': None, '_save_checkpoints_secs': 1073741824, '_session_config': allow_soft_placement: true\n",
      "graph_options {\n",
      "  rewrite_options {\n",
      "    meta_optimizer_iterations: ONE\n",
      "  }\n",
      "}\n",
      ", '_keep_checkpoint_max': 3, '_keep_checkpoint_every_n_hours': 10000, '_log_step_count_steps': None, '_train_distribute': None, '_device_fn': None, '_protocol': None, '_eval_distribute': None, '_experimental_distribute': None, '_experimental_max_worker_delay_secs': None, '_session_creation_timeout_secs': 7200, '_checkpoint_save_graph_def': True, '_service': None, '_cluster_spec': ClusterSpec({}), '_task_type': 'worker', '_task_id': 0, '_global_id_in_cluster': 0, '_master': '', '_evaluation_master': '', '_is_chief': True, '_num_ps_replicas': 0, '_num_worker_replicas': 1, '_tpu_config': TPUConfig(iterations_per_loop=100, num_shards=2, num_cores_per_replica=None, per_host_input_for_training=2, tpu_job_name=None, initial_infeed_sleep_secs=None, input_partition_dims=None, eval_training_input_configuration=2, experimental_host_call_every_n_steps=1, experimental_allow_per_host_v2_parallel_get_next=False, experimental_feed_hook=None), '_cluster': None}\n",
      "I0712 15:15:52.627196 140577482109760 estimator.py:202] Using config: {'_model_dir': './test_output', '_tf_random_seed': None, '_save_summary_steps': 100, '_save_checkpoints_steps': None, '_save_checkpoints_secs': 1073741824, '_session_config': allow_soft_placement: true\n",
      "graph_options {\n",
      "  rewrite_options {\n",
      "    meta_optimizer_iterations: ONE\n",
      "  }\n",
      "}\n",
      ", '_keep_checkpoint_max': 3, '_keep_checkpoint_every_n_hours': 10000, '_log_step_count_steps': None, '_train_distribute': None, '_device_fn': None, '_protocol': None, '_eval_distribute': None, '_experimental_distribute': None, '_experimental_max_worker_delay_secs': None, '_session_creation_timeout_secs': 7200, '_checkpoint_save_graph_def': True, '_service': None, '_cluster_spec': ClusterSpec({}), '_task_type': 'worker', '_task_id': 0, '_global_id_in_cluster': 0, '_master': '', '_evaluation_master': '', '_is_chief': True, '_num_ps_replicas': 0, '_num_worker_replicas': 1, '_tpu_config': TPUConfig(iterations_per_loop=100, num_shards=2, num_cores_per_replica=None, per_host_input_for_training=2, tpu_job_name=None, initial_infeed_sleep_secs=None, input_partition_dims=None, eval_training_input_configuration=2, experimental_host_call_every_n_steps=1, experimental_allow_per_host_v2_parallel_get_next=False, experimental_feed_hook=None), '_cluster': None}\n",
      "INFO:tensorflow:_TPUContext: eval_on_tpu True\n",
      "I0712 15:15:52.627347 140577482109760 tpu_context.py:271] _TPUContext: eval_on_tpu True\n",
      "WARNING:tensorflow:eval_on_tpu ignored because use_tpu is False.\n",
      "W0712 15:15:52.627424 140577482109760 tpu_context.py:273] eval_on_tpu ignored because use_tpu is False.\n",
      "Traceback (most recent call last):\n",
      "  File \"/home/rockerbox/Desktop/nasbench/test.py\", line 38, in <module>\n",
      "    app.run(main)\n",
      "  File \"/home/rockerbox/anaconda3/envs/nas_with_tf/lib/python3.9/site-packages/absl/app.py\", line 312, in run\n",
      "    _run_main(main, args)\n",
      "  File \"/home/rockerbox/anaconda3/envs/nas_with_tf/lib/python3.9/site-packages/absl/app.py\", line 258, in _run_main\n",
      "    sys.exit(main(argv))\n",
      "  File \"/home/rockerbox/Desktop/nasbench/test.py\", line 35, in main\n",
      "    nasbench_obj.evaluate(model_spec, './test_output')\n",
      "  File \"/home/rockerbox/Desktop/nasbench/nasbench/api.py\", line 328, in evaluate\n",
      "    metadata = evaluate.train_and_evaluate(model_spec, self.config, model_dir)\n",
      "  File \"/home/rockerbox/Desktop/nasbench/nasbench/lib/evaluate.py\", line 56, in train_and_evaluate\n",
      "    return _train_and_evaluate_impl(spec, config, model_dir)\n",
      "  File \"/home/rockerbox/Desktop/nasbench/nasbench/lib/evaluate.py\", line 86, in _train_and_evaluate_impl\n",
      "    return evaluator.run()\n",
      "  File \"/home/rockerbox/Desktop/nasbench/nasbench/lib/evaluate.py\", line 126, in run\n",
      "    if not evaluations or evaluations[-1] != 1.0:\n",
      "TypeError: 'map' object is not subscriptable\n"
     ]
    }
   ],
   "source": [
    "# Preferable to run this on the command line\n",
    "!python test.py --nouse_tpu --train_data_files ./nasbench/scripts/cifar-10-data/train_1.tfrecords,./nasbench/scripts/cifar-10-data/train_2.tfrecords,./nasbench/scripts/cifar-10-data/train_3.tfrecords,./nasbench/scripts/cifar-10-data/train_4.tfrecords --test_data_file ./nasbench/scripts/cifar-10-data/test.tfrecords --valid_data_file ./nasbench/scripts/cifar-10-data/validation.tfrecords"
   ]
  },
  {
   "cell_type": "code",
   "execution_count": 33,
   "metadata": {},
   "outputs": [
    {
     "data": {
      "text/plain": [
       "['./nasbench/scripts/cifar-10-data/train_3.tfrecords',\n",
       " './nasbench/scripts/cifar-10-data/train_1.tfrecords',\n",
       " './nasbench/scripts/cifar-10-data/validation.tfrecords',\n",
       " './nasbench/scripts/cifar-10-data/test.tfrecords',\n",
       " './nasbench/scripts/cifar-10-data/train_2.tfrecords',\n",
       " './nasbench/scripts/cifar-10-data/sample.tfrecords',\n",
       " './nasbench/scripts/cifar-10-data/train_4.tfrecords']"
      ]
     },
     "execution_count": 33,
     "metadata": {},
     "output_type": "execute_result"
    }
   ],
   "source": [
    "from pathlib import Path\n",
    "\n",
    "data_fps = Path('./') / 'nasbench' / 'scripts' / 'cifar-10-data'\n",
    "data_fps = [str(fp) for fp in data_fps.iterdir() if fp.suffix == '.tfrecords']\n",
    "\n",
    "list(map(lambda s: './' + s, data_fps))"
   ]
  },
  {
   "cell_type": "code",
   "execution_count": 56,
   "metadata": {},
   "outputs": [
    {
     "name": "stdout",
     "output_type": "stream",
     "text": [
      "['-', '--option1', './value1,./value2', '--option2', 'value2', '--etc']\n"
     ]
    },
    {
     "name": "stderr",
     "output_type": "stream",
     "text": [
      "Traceback (most recent call last):\n",
      "  File \"<stdin>\", line 6, in <module>\n",
      "NameError: name 'nasbench' is not defined\n"
     ]
    },
    {
     "ename": "CalledProcessError",
     "evalue": "Command 'b\"\\nimport sys\\n\\nif __name__ == '__main__':\\n    print(sys.argv)\\n    print(nasbench)\\n\"' returned non-zero exit status 1.",
     "output_type": "error",
     "traceback": [
      "\u001b[0;31m---------------------------------------------------------------------------\u001b[0m",
      "\u001b[0;31mCalledProcessError\u001b[0m                        Traceback (most recent call last)",
      "\u001b[1;32m/home/rockerbox/Desktop/nasbench/test.ipynb Cell 8'\u001b[0m in \u001b[0;36m<cell line: 1>\u001b[0;34m()\u001b[0m\n\u001b[0;32m----> <a href='vscode-notebook-cell:/home/rockerbox/Desktop/nasbench/test.ipynb#ch0000005?line=0'>1</a>\u001b[0m get_ipython()\u001b[39m.\u001b[39;49mrun_cell_magic(\u001b[39m'\u001b[39;49m\u001b[39mpython\u001b[39;49m\u001b[39m'\u001b[39;49m, \u001b[39m'\u001b[39;49m\u001b[39m- --option1 ./value1,./value2 --option2 value2 --etc\u001b[39;49m\u001b[39m'\u001b[39;49m, \u001b[39m\"\u001b[39;49m\u001b[39m\\n\u001b[39;49;00m\u001b[39mimport sys\u001b[39;49m\u001b[39m\\n\u001b[39;49;00m\u001b[39m\\n\u001b[39;49;00m\u001b[39mif __name__ == \u001b[39;49m\u001b[39m'\u001b[39;49m\u001b[39m__main__\u001b[39;49m\u001b[39m'\u001b[39;49m\u001b[39m:\u001b[39;49m\u001b[39m\\n\u001b[39;49;00m\u001b[39m    print(sys.argv)\u001b[39;49m\u001b[39m\\n\u001b[39;49;00m\u001b[39m    print(nasbench)\u001b[39;49m\u001b[39m\\n\u001b[39;49;00m\u001b[39m\"\u001b[39;49m)\n",
      "File \u001b[0;32m~/anaconda3/envs/nas_with_tf/lib/python3.9/site-packages/IPython/core/interactiveshell.py:2357\u001b[0m, in \u001b[0;36mInteractiveShell.run_cell_magic\u001b[0;34m(self, magic_name, line, cell)\u001b[0m\n\u001b[1;32m   2355\u001b[0m \u001b[39mwith\u001b[39;00m \u001b[39mself\u001b[39m\u001b[39m.\u001b[39mbuiltin_trap:\n\u001b[1;32m   2356\u001b[0m     args \u001b[39m=\u001b[39m (magic_arg_s, cell)\n\u001b[0;32m-> 2357\u001b[0m     result \u001b[39m=\u001b[39m fn(\u001b[39m*\u001b[39;49margs, \u001b[39m*\u001b[39;49m\u001b[39m*\u001b[39;49mkwargs)\n\u001b[1;32m   2358\u001b[0m \u001b[39mreturn\u001b[39;00m result\n",
      "File \u001b[0;32m~/anaconda3/envs/nas_with_tf/lib/python3.9/site-packages/IPython/core/magics/script.py:153\u001b[0m, in \u001b[0;36mScriptMagics._make_script_magic.<locals>.named_script_magic\u001b[0;34m(line, cell)\u001b[0m\n\u001b[1;32m    151\u001b[0m \u001b[39melse\u001b[39;00m:\n\u001b[1;32m    152\u001b[0m     line \u001b[39m=\u001b[39m script\n\u001b[0;32m--> 153\u001b[0m \u001b[39mreturn\u001b[39;00m \u001b[39mself\u001b[39;49m\u001b[39m.\u001b[39;49mshebang(line, cell)\n",
      "File \u001b[0;32m~/anaconda3/envs/nas_with_tf/lib/python3.9/site-packages/IPython/core/magics/script.py:305\u001b[0m, in \u001b[0;36mScriptMagics.shebang\u001b[0;34m(self, line, cell)\u001b[0m\n\u001b[1;32m    300\u001b[0m \u001b[39mif\u001b[39;00m args\u001b[39m.\u001b[39mraise_error \u001b[39mand\u001b[39;00m p\u001b[39m.\u001b[39mreturncode \u001b[39m!=\u001b[39m \u001b[39m0\u001b[39m:\n\u001b[1;32m    301\u001b[0m     \u001b[39m# If we get here and p.returncode is still None, we must have\u001b[39;00m\n\u001b[1;32m    302\u001b[0m     \u001b[39m# killed it but not yet seen its return code. We don't wait for it,\u001b[39;00m\n\u001b[1;32m    303\u001b[0m     \u001b[39m# in case it's stuck in uninterruptible sleep. -9 = SIGKILL\u001b[39;00m\n\u001b[1;32m    304\u001b[0m     rc \u001b[39m=\u001b[39m p\u001b[39m.\u001b[39mreturncode \u001b[39mor\u001b[39;00m \u001b[39m-\u001b[39m\u001b[39m9\u001b[39m\n\u001b[0;32m--> 305\u001b[0m     \u001b[39mraise\u001b[39;00m CalledProcessError(rc, cell)\n",
      "\u001b[0;31mCalledProcessError\u001b[0m: Command 'b\"\\nimport sys\\n\\nif __name__ == '__main__':\\n    print(sys.argv)\\n    print(nasbench)\\n\"' returned non-zero exit status 1."
     ]
    }
   ],
   "source": [
    "%%python - --option1 ./value1,./value2 --option2 value2 --etc\n",
    "\n",
    "import sys\n",
    "\n",
    "if __name__ == '__main__':\n",
    "    print(sys.argv)\n",
    "    print(nasbench)"
   ]
  },
  {
   "cell_type": "code",
   "execution_count": 4,
   "metadata": {},
   "outputs": [
    {
     "name": "stdout",
     "output_type": "stream",
     "text": [
      "Wa-hoo!\n",
      "['-', '--option1', 'value1', '--option2', 'value2', '--etc']\n"
     ]
    }
   ],
   "source": [
    "%%python - --option1 value1 --option2 value2 --etc\n",
    "\n",
    "import test_cla_on_jupyter\n"
   ]
  },
  {
   "cell_type": "code",
   "execution_count": null,
   "metadata": {},
   "outputs": [],
   "source": []
  }
 ],
 "metadata": {
  "kernelspec": {
   "display_name": "Python 3.9.12 ('nas_with_tf')",
   "language": "python",
   "name": "python3"
  },
  "language_info": {
   "codemirror_mode": {
    "name": "ipython",
    "version": 3
   },
   "file_extension": ".py",
   "mimetype": "text/x-python",
   "name": "python",
   "nbconvert_exporter": "python",
   "pygments_lexer": "ipython3",
   "version": "3.9.12"
  },
  "orig_nbformat": 4,
  "vscode": {
   "interpreter": {
    "hash": "6fe5d1d15b756004e991b92666273d0106f4e13b14ed97ed490426778dc23cfc"
   }
  }
 },
 "nbformat": 4,
 "nbformat_minor": 2
}
